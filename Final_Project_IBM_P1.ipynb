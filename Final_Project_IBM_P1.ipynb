{
 "cells": [
  {
   "cell_type": "markdown",
   "metadata": {},
   "source": [
    "# IBM Data Science Capstone Final Project"
   ]
  },
  {
   "cell_type": "markdown",
   "metadata": {},
   "source": [
    "### Introduction"
   ]
  },
  {
   "cell_type": "markdown",
   "metadata": {},
   "source": [
    "As part of my final capstone project for IBM Data Science Professional Certificate in Coursera, I choose to explore neighborhoods for Riyadh city, where i'm living,  using Foursquare location data. Riyadh is a metopletanian area with more than 6 million (macrotrends web site) people living there, the tunisian people who immigrate to Saudia arabia and scpecially to Riyadh are in exponential increase and the need to find and enjoy tunisian cuisine is on the rise. Due to the limit number of tunsian restaurant in Riyadh, the idea to find more suitable place to begin such project comes up."
   ]
  },
  {
   "cell_type": "markdown",
   "metadata": {},
   "source": [
    "### Business Problem"
   ]
  },
  {
   "cell_type": "markdown",
   "metadata": {},
   "source": [
    "The queston to answer is **\"Where is the more suitable place to launch such project?\"** in Riyadh, Saudia Arbia. I will try to answer this question by using data science, machine learning method (clustering) and Foresquare Api to extract needed data.\n"
   ]
  },
  {
   "cell_type": "markdown",
   "metadata": {},
   "source": [
    "### Target Audiance"
   ]
  },
  {
   "cell_type": "markdown",
   "metadata": {},
   "source": [
    "for any entrepreneur or businessman who wants to find a location to lanch such project"
   ]
  },
  {
   "cell_type": "markdown",
   "metadata": {},
   "source": [
    "### Data"
   ]
  },
  {
   "cell_type": "markdown",
   "metadata": {},
   "source": [
    "The data needed for the project is:\n",
    "- Riyadh location (Latitude and Longitude)\n",
    "- Neighborhood list in Riyadh city.\n",
    "- Latitude and Longitude relative to these neihborhoods.\n",
    "- Venue List of north african restaurant."
   ]
  },
  {
   "cell_type": "markdown",
   "metadata": {},
   "source": [
    "#### Datasets"
   ]
  },
  {
   "cell_type": "markdown",
   "metadata": {},
   "source": [
    "1- List of neighborhood from https://en.wikipedia.org/wiki/Riyadh#City_districts"
   ]
  },
  {
   "cell_type": "markdown",
   "metadata": {},
   "source": [
    "2- Foresquare Api to extract the venue list for each neighborhood</div>"
   ]
  },
  {
   "cell_type": "markdown",
   "metadata": {},
   "source": [
    "#### Extracting the data\n",
    "- scapping Riyadh neighborhood via Wikipedia\n",
    "- Get latitude and longitude for each neighborhood extracted in previous section using geocoder\n",
    "- extract venue list of each neighborhood using foresquare Api"
   ]
  },
  {
   "cell_type": "code",
   "execution_count": 1,
   "metadata": {},
   "outputs": [
    {
     "name": "stdout",
     "output_type": "stream",
     "text": [
      "Librairies Imported\n"
     ]
    }
   ],
   "source": [
    "#!pip install folium\n",
    "#!pip install beautifulsoup4\n",
    "#!pip install lxml\n",
    "#!pip install geopy\n",
    "\n",
    "import pandas as pd\n",
    "import numpy as np\n",
    "import requests\n",
    "from bs4 import BeautifulSoup\n",
    "\n",
    "\n",
    "from urllib.request import urlopen\n",
    "import re\n",
    "from geopy.geocoders import Nominatim\n",
    "\n",
    "print('Librairies Imported')"
   ]
  },
  {
   "cell_type": "code",
   "execution_count": 9,
   "metadata": {},
   "outputs": [],
   "source": [
    "def replacer(s, newstring, index, nofail=False):\n",
    "    # raise an error if index is outside of the string\n",
    "    if not nofail and index not in range(len(s)):\n",
    "        raise ValueError(\"index outside given string\")\n",
    "\n",
    "    # if not erroring, but the index is still not in the correct range..\n",
    "    if index < 0:  # add it to the beginning\n",
    "        return newstring + s\n",
    "    if index > len(s):  # add it to the end\n",
    "        return s + newstring\n",
    "\n",
    "    # insert the new string between \"slices\" of the original\n",
    "    return s[:index] + newstring + s[index + 1:]\n",
    "\n",
    "def cleanTxt(txt):\n",
    "    idx_start=txt.find(\"(\")\n",
    "    idx_end=txt.find(\")\")\n",
    "    \n",
    "    if idx_start <0:\n",
    "        return txt\n",
    "    if idx_start <0:\n",
    "        return txt\n",
    "    return txt[:idx_start] + txt[idx_end+1:]\n",
    "\n",
    "fn_repl = lambda a: a.replace(\"'\",\"\")\n",
    "\n",
    "def getAdressLocation(adress):\n",
    "    adress=adress + \", Riyadh\"\n",
    "    latitude=0\n",
    "    longitude=0\n",
    "    geolocator = Nominatim()\n",
    "    location = geolocator.geocode(address)\n",
    "    if location != None:\n",
    "        latitude = location.latitude\n",
    "        longitude = location.longitude\n",
    "    \n",
    "    return latitude, longitude\n",
    "\n",
    "def getNearbyVenues(names, latitudes, longitudes, radius=500):\n",
    "    \n",
    "    venues_list=[]\n",
    "    for name, lat, lng in zip(names, latitudes, longitudes):\n",
    "        print(name)\n",
    "            \n",
    "        # create the API request URL\n",
    "        url = 'https://api.foursquare.com/v2/venues/explore?&client_id={}&client_secret={}&v={}&ll={},{}&radius={}&limit={}'.format(\n",
    "            CLIENT_ID, \n",
    "            CLIENT_SECRET, \n",
    "            VERSION, \n",
    "            lat, \n",
    "            lng, \n",
    "            radius, \n",
    "            LIMIT)\n",
    "            \n",
    "        # make the GET request\n",
    "        results = requests.get(url).json()[\"response\"]['groups'][0]['items']\n",
    "        \n",
    "        # return only relevant information for each nearby venue\n",
    "        venues_list.append([(\n",
    "            name, \n",
    "            lat, \n",
    "            lng, \n",
    "            v['venue']['name'], \n",
    "            v['venue']['location']['lat'], \n",
    "            v['venue']['location']['lng'],  \n",
    "            v['venue']['categories'][0]['name']) for v in results])\n",
    "\n",
    "    nearby_venues = pd.DataFrame([item for venue_list in venues_list for item in venue_list])\n",
    "    nearby_venues.columns = ['Neighborhood', \n",
    "                  'Neighborhood Latitude', \n",
    "                  'Neighborhood Longitude', \n",
    "                  'Venue', \n",
    "                  'Venue Latitude', \n",
    "                  'Venue Longitude', \n",
    "                  'Venue Category']\n",
    "    \n",
    "    return(nearby_venues)"
   ]
  },
  {
   "cell_type": "markdown",
   "metadata": {},
   "source": [
    "##### Scrapping Riyadh Neighborhood list"
   ]
  },
  {
   "cell_type": "code",
   "execution_count": 3,
   "metadata": {},
   "outputs": [
    {
     "data": {
      "text/html": [
       "<div>\n",
       "<style scoped>\n",
       "    .dataframe tbody tr th:only-of-type {\n",
       "        vertical-align: middle;\n",
       "    }\n",
       "\n",
       "    .dataframe tbody tr th {\n",
       "        vertical-align: top;\n",
       "    }\n",
       "\n",
       "    .dataframe thead th {\n",
       "        text-align: right;\n",
       "    }\n",
       "</style>\n",
       "<table border=\"1\" class=\"dataframe\">\n",
       "  <thead>\n",
       "    <tr style=\"text-align: right;\">\n",
       "      <th></th>\n",
       "      <th>District</th>\n",
       "    </tr>\n",
       "  </thead>\n",
       "  <tbody>\n",
       "    <tr>\n",
       "      <th>0</th>\n",
       "      <td>Al-Deerah</td>\n",
       "    </tr>\n",
       "    <tr>\n",
       "      <th>1</th>\n",
       "      <td>Mikal</td>\n",
       "    </tr>\n",
       "    <tr>\n",
       "      <th>2</th>\n",
       "      <td>Manfuha</td>\n",
       "    </tr>\n",
       "    <tr>\n",
       "      <th>3</th>\n",
       "      <td>Manfuha Al-Jadidah</td>\n",
       "    </tr>\n",
       "    <tr>\n",
       "      <th>4</th>\n",
       "      <td>Al-Oud</td>\n",
       "    </tr>\n",
       "  </tbody>\n",
       "</table>\n",
       "</div>"
      ],
      "text/plain": [
       "              District\n",
       "0           Al-Deerah \n",
       "1                Mikal\n",
       "2              Manfuha\n",
       "3  Manfuha Al-Jadidah \n",
       "4               Al-Oud"
      ]
     },
     "execution_count": 3,
     "metadata": {},
     "output_type": "execute_result"
    }
   ],
   "source": [
    "html = urlopen(\"https://en.wikipedia.org/wiki/Riyadh#City_districts\").read()\n",
    "soup = BeautifulSoup(html)\n",
    "divparent = soup.find_all('div', attrs={'class':'div-col columns column-width'})[0]\n",
    "ldistr=[]\n",
    "for row in divparent.find_all('ul'):\n",
    "    for data in row.find_all('li'):\n",
    "        if data.string!=None:\n",
    "            #print(data.string,\"--__--\" ,cleanTxt(data.string))\n",
    "            entry=cleanTxt(fn_repl(data.string))\n",
    "            ldistr.append(entry)\n",
    "\n",
    "columns=['District']\n",
    "df_org=pd.DataFrame(ldistr,columns=columns)\n",
    "df_org.head()\n"
   ]
  },
  {
   "cell_type": "markdown",
   "metadata": {},
   "source": [
    "#### Drop duplicates"
   ]
  },
  {
   "cell_type": "code",
   "execution_count": 4,
   "metadata": {},
   "outputs": [
    {
     "name": "stdout",
     "output_type": "stream",
     "text": [
      "dataset shape before :  (196, 1)\n",
      "dataset shape after :  (95, 1)\n"
     ]
    }
   ],
   "source": [
    "print(\"dataset shape before : \",df_org.shape)\n",
    "# sorting by first name \n",
    "df_org.sort_values(\"District\", inplace = True) \n",
    "df_org\n",
    "# dropping ALL duplicte values \n",
    "df=df_org.drop_duplicates() \n",
    "print(\"dataset shape after : \",df.shape)\n"
   ]
  },
  {
   "cell_type": "markdown",
   "metadata": {},
   "source": [
    "#### Get AL-Riyadh Coordinate"
   ]
  },
  {
   "cell_type": "code",
   "execution_count": 5,
   "metadata": {},
   "outputs": [
    {
     "name": "stderr",
     "output_type": "stream",
     "text": [
      "D:\\Anaconda3\\lib\\site-packages\\ipykernel_launcher.py:2: DeprecationWarning: Using Nominatim with the default \"geopy/1.21.0\" `user_agent` is strongly discouraged, as it violates Nominatim's ToS https://operations.osmfoundation.org/policies/nominatim/ and may possibly cause 403 and 429 HTTP errors. Please specify a custom `user_agent` with `Nominatim(user_agent=\"my-application\")` or by overriding the default `user_agent`: `geopy.geocoders.options.default_user_agent = \"my-application\"`. In geopy 2.0 this will become an exception.\n",
      "  \n"
     ]
    },
    {
     "name": "stdout",
     "output_type": "stream",
     "text": [
      "Al-Riyadh center longitude=24.6319692, latitude=46.7150648\n"
     ]
    }
   ],
   "source": [
    "address = 'Riyadh, SA'\n",
    "geolocator = Nominatim()\n",
    "location = geolocator.geocode(address)\n",
    "ar_lat = location.latitude\n",
    "ar_long = location.longitude\n",
    "print('Al-Riyadh center longitude={}, latitude={}'.format(ar_lat, ar_long))"
   ]
  },
  {
   "cell_type": "markdown",
   "metadata": {},
   "source": [
    "### Get Riyadh Neighborhood coordinate\n",
    "we need to get the coordinate of Riyadh neighborhoods in order to get the list of venues"
   ]
  },
  {
   "cell_type": "code",
   "execution_count": 6,
   "metadata": {},
   "outputs": [
    {
     "name": "stderr",
     "output_type": "stream",
     "text": [
      "D:\\Anaconda3\\lib\\site-packages\\ipykernel_launcher.py:4: DeprecationWarning: Using Nominatim with the default \"geopy/1.21.0\" `user_agent` is strongly discouraged, as it violates Nominatim's ToS https://operations.osmfoundation.org/policies/nominatim/ and may possibly cause 403 and 429 HTTP errors. Please specify a custom `user_agent` with `Nominatim(user_agent=\"my-application\")` or by overriding the default `user_agent`: `geopy.geocoders.options.default_user_agent = \"my-application\"`. In geopy 2.0 this will become an exception.\n",
      "  after removing the cwd from sys.path.\n"
     ]
    }
   ],
   "source": [
    "d=[]\n",
    "for index, row in df.iterrows():\n",
    "    address = row['District'] + \", Riyadh\"\n",
    "    geolocator = Nominatim()\n",
    "    location = geolocator.geocode(address)\n",
    "    if location != None:\n",
    "        latitude = location.latitude\n",
    "        longitude = location.longitude\n",
    "        d.append({'District': row['District'], 'latitude': latitude, 'longitude':longitude})\n",
    "        \n",
    "df_new=pd.DataFrame(d)\n",
    "df_new.head()\n",
    "df_new.to_csv('Riyadh_Neib_Loc.csv')"
   ]
  },
  {
   "cell_type": "code",
   "execution_count": 7,
   "metadata": {},
   "outputs": [
    {
     "data": {
      "text/html": [
       "<div>\n",
       "<style scoped>\n",
       "    .dataframe tbody tr th:only-of-type {\n",
       "        vertical-align: middle;\n",
       "    }\n",
       "\n",
       "    .dataframe tbody tr th {\n",
       "        vertical-align: top;\n",
       "    }\n",
       "\n",
       "    .dataframe thead th {\n",
       "        text-align: right;\n",
       "    }\n",
       "</style>\n",
       "<table border=\"1\" class=\"dataframe\">\n",
       "  <thead>\n",
       "    <tr style=\"text-align: right;\">\n",
       "      <th></th>\n",
       "      <th>District</th>\n",
       "      <th>latitude</th>\n",
       "      <th>longitude</th>\n",
       "    </tr>\n",
       "  </thead>\n",
       "  <tbody>\n",
       "    <tr>\n",
       "      <th>0</th>\n",
       "      <td>Ad Difa</td>\n",
       "      <td>24.592784</td>\n",
       "      <td>46.833947</td>\n",
       "    </tr>\n",
       "    <tr>\n",
       "      <th>1</th>\n",
       "      <td>Al Iskan</td>\n",
       "      <td>21.400517</td>\n",
       "      <td>39.780900</td>\n",
       "    </tr>\n",
       "    <tr>\n",
       "      <th>2</th>\n",
       "      <td>Al Izdihar</td>\n",
       "      <td>24.780321</td>\n",
       "      <td>46.717530</td>\n",
       "    </tr>\n",
       "    <tr>\n",
       "      <th>3</th>\n",
       "      <td>Al Mansouriyah</td>\n",
       "      <td>24.625390</td>\n",
       "      <td>46.522381</td>\n",
       "    </tr>\n",
       "    <tr>\n",
       "      <th>4</th>\n",
       "      <td>Al-Arid</td>\n",
       "      <td>24.499165</td>\n",
       "      <td>47.000378</td>\n",
       "    </tr>\n",
       "  </tbody>\n",
       "</table>\n",
       "</div>"
      ],
      "text/plain": [
       "         District   latitude  longitude\n",
       "0         Ad Difa  24.592784  46.833947\n",
       "1        Al Iskan  21.400517  39.780900\n",
       "2      Al Izdihar  24.780321  46.717530\n",
       "3  Al Mansouriyah  24.625390  46.522381\n",
       "4         Al-Arid  24.499165  47.000378"
      ]
     },
     "execution_count": 7,
     "metadata": {},
     "output_type": "execute_result"
    }
   ],
   "source": [
    "df_loc=pd.read_csv('Riyadh_Neib_Loc.csv',index_col=0)\n",
    "df_loc=df_loc[['District','latitude','longitude']]\n",
    "df_loc.head()"
   ]
  },
  {
   "cell_type": "code",
   "execution_count": 10,
   "metadata": {},
   "outputs": [
    {
     "name": "stdout",
     "output_type": "stream",
     "text": [
      "Ad Difa\n",
      "Al Iskan\n",
      "Al Izdihar\n",
      "Al Mansouriyah\n",
      "Al-Arid\n",
      "Al-Badia\n",
      "Al-Deerah \n",
      "Al-Fayha\n",
      "Al-Ghadir\n",
      "Al-Hair\n",
      "Al-Hamra\n",
      "Al-Khozama\n",
      "Al-Maathar\n",
      "Al-Maathar Al-Shimali \n",
      "Al-Maizliyyah\n",
      "Al-Malaz\n",
      "Al-Malga\n",
      "Al-Manakh\n",
      "Al-Manar\n",
      "Al-Margab\n",
      "Al-Marwah\n",
      "Al-Masani\n",
      "Al-Masif\n",
      "Al-Murabba\n",
      "Al-Murooj\n",
      "Al-Nafil\n",
      "Al-Nahdhah\n",
      "Al-Nakheel\n",
      "Al-Naseem \n",
      "Al-Olayya\n",
      "Al-Oud\n",
      "Al-Qadisiyah\n",
      "Al-Qouds\n",
      "Al-Rabwah\n",
      "Al-Raid\n",
      "Al-Rayyan\n",
      "Al-Rimayah\n",
      "Al-Saadah\n",
      "Al-Shemaysi\n",
      "Al-Shifa\n",
      "Al-Urayja\n",
      "Al-Urayja \n",
      "Al-Urayja Al-Wusta \n",
      "Al-Wadi\n",
      "Al-Yamamah\n",
      "As-Salam\n",
      "As-Suwaidi\n",
      "As-Suwaidi \n",
      "Diplomatic Quarter\n",
      "Eleyshah\n",
      "Hazm\n",
      "Hijrat Laban\n",
      "Hittin\n",
      "Irqah\n",
      "Jabrah\n",
      "Jarir\n",
      "King Abdullah Financial District\n",
      "King Fahd District\n",
      "Manfuha\n",
      "Manfuha Al-Jadidah \n",
      "Mikal\n",
      "Nemar\n",
      "Otayyigah\n",
      "Qortubah \n",
      "Salam\n",
      "Shubra\n",
      "Sultanah\n",
      "Syah\n",
      "Taybah\n",
      "Tuwaiq\n",
      "Umm Al-Hamam \n"
     ]
    }
   ],
   "source": [
    "CLIENT_ID = '************************'\n",
    "CLIENT_SECRET = '****************************'\n",
    "VERSION = '20200201' # Foursquare API version\n",
    "LIMIT = 200 # limit of number of venues returned by Foursquare API\n",
    "radius = 750 # define radius\n",
    "\n",
    "Riyadh_venues = getNearbyVenues(names=df_loc['District'],latitudes=df_loc['latitude'], longitudes=df_loc['longitude'])\n",
    "Riyadh_venues.shape\n",
    "\n",
    "Riyadh_venues.head()\n",
    "Riyadh_venues.to_csv(\"Riyadh_venues.csv\")\n"
   ]
  },
  {
   "cell_type": "code",
   "execution_count": 17,
   "metadata": {},
   "outputs": [
    {
     "name": "stdout",
     "output_type": "stream",
     "text": [
      "There are 166 uniques categories.\n",
      "Venue Category\n",
      "ATM                       2\n",
      "Afghan Restaurant         2\n",
      "Airport Service           1\n",
      "American Restaurant      10\n",
      "Antique Shop              2\n",
      "Aquarium                  1\n",
      "Arepa Restaurant          2\n",
      "Art Gallery               1\n",
      "Arts & Crafts Store       1\n",
      "Asian Restaurant          2\n",
      "Assisted Living           1\n",
      "Athletics & Sports        3\n",
      "Australian Restaurant     1\n",
      "Auto Garage               1\n",
      "Auto Workshop             2\n",
      "Bakery                   10\n",
      "Bank                      1\n",
      "Beach                     1\n",
      "Beach Bar                 1\n",
      "Bookstore                 3\n",
      "Boutique                  2\n",
      "Boxing Gym                1\n",
      "Breakfast Spot           23\n",
      "Bubble Tea Shop           1\n",
      "Buffet                    1\n",
      "Burger Joint             16\n",
      "Bus Stop                  1\n",
      "Business Service          1\n",
      "Café                     27\n",
      "Candy Store               7\n",
      "                         ..\n",
      "Salon / Barbershop        2\n",
      "Sandwich Place           14\n",
      "Seafood Restaurant        1\n",
      "Shawarma Place           15\n",
      "Shipping Store            1\n",
      "Shoe Repair               1\n",
      "Shoe Store                4\n",
      "Shopping Mall            12\n",
      "Smoke Shop                1\n",
      "Snack Place               2\n",
      "Soccer Field              3\n",
      "Soccer Stadium            1\n",
      "Spa                       2\n",
      "Speakeasy                 1\n",
      "Sporting Goods Shop       1\n",
      "Sports Club               1\n",
      "Stables                   1\n",
      "Supermarket               7\n",
      "Sushi Restaurant          1\n",
      "Tea Room                  1\n",
      "Tennis Court              2\n",
      "Theme Park                1\n",
      "Toy / Game Store          1\n",
      "Track                     1\n",
      "Trail                     3\n",
      "Turkish Restaurant        4\n",
      "Used Bookstore            1\n",
      "Video Game Store          3\n",
      "Women's Store             1\n",
      "Yoga Studio               3\n",
      "Name: Neighborhood, Length: 166, dtype: int64\n"
     ]
    }
   ],
   "source": [
    "\n",
    "Riyadh_venues=pd.read_csv(\"Riyadh_venues.csv\")\n",
    "Riyadh_venues.drop(['Unnamed: 0'], axis = 1,inplace=True)\n",
    "Riyadh_venues.head()\n",
    "\n",
    "\n",
    "#Number of unique venue categories\n",
    "print('There are {} uniques categories.'.format(len(Riyadh_venues['Venue Category'].unique())))\n",
    "\n",
    "#Venue count per Category\n",
    "print(Riyadh_venues.groupby('Venue Category')['Neighborhood'].count())\n"
   ]
  },
  {
   "cell_type": "markdown",
   "metadata": {},
   "source": [
    "#### Filter Only restaurant category"
   ]
  },
  {
   "cell_type": "code",
   "execution_count": 19,
   "metadata": {},
   "outputs": [
    {
     "data": {
      "text/html": [
       "<div>\n",
       "<style scoped>\n",
       "    .dataframe tbody tr th:only-of-type {\n",
       "        vertical-align: middle;\n",
       "    }\n",
       "\n",
       "    .dataframe tbody tr th {\n",
       "        vertical-align: top;\n",
       "    }\n",
       "\n",
       "    .dataframe thead th {\n",
       "        text-align: right;\n",
       "    }\n",
       "</style>\n",
       "<table border=\"1\" class=\"dataframe\">\n",
       "  <thead>\n",
       "    <tr style=\"text-align: right;\">\n",
       "      <th></th>\n",
       "      <th>Neighborhood</th>\n",
       "      <th>Neighborhood Latitude</th>\n",
       "      <th>Neighborhood Longitude</th>\n",
       "      <th>Venue</th>\n",
       "      <th>Venue Latitude</th>\n",
       "      <th>Venue Longitude</th>\n",
       "      <th>Venue Category</th>\n",
       "    </tr>\n",
       "  </thead>\n",
       "  <tbody>\n",
       "    <tr>\n",
       "      <th>0</th>\n",
       "      <td>Al Iskan</td>\n",
       "      <td>21.400517</td>\n",
       "      <td>39.78090</td>\n",
       "      <td>مطعم الدومان للكباب الميرو</td>\n",
       "      <td>21.401180</td>\n",
       "      <td>39.780820</td>\n",
       "      <td>Mediterranean Restaurant</td>\n",
       "    </tr>\n",
       "    <tr>\n",
       "      <th>1</th>\n",
       "      <td>Al Iskan</td>\n",
       "      <td>21.400517</td>\n",
       "      <td>39.78090</td>\n",
       "      <td>Herfy (هرفي)</td>\n",
       "      <td>21.400527</td>\n",
       "      <td>39.780757</td>\n",
       "      <td>Fast Food Restaurant</td>\n",
       "    </tr>\n",
       "    <tr>\n",
       "      <th>2</th>\n",
       "      <td>Al Iskan</td>\n",
       "      <td>21.400517</td>\n",
       "      <td>39.78090</td>\n",
       "      <td>شاورمتك</td>\n",
       "      <td>21.400806</td>\n",
       "      <td>39.781047</td>\n",
       "      <td>Arepa Restaurant</td>\n",
       "    </tr>\n",
       "    <tr>\n",
       "      <th>3</th>\n",
       "      <td>Al Izdihar</td>\n",
       "      <td>24.780321</td>\n",
       "      <td>46.71753</td>\n",
       "      <td>فطائر تركية</td>\n",
       "      <td>24.779479</td>\n",
       "      <td>46.719074</td>\n",
       "      <td>Turkish Restaurant</td>\n",
       "    </tr>\n",
       "    <tr>\n",
       "      <th>4</th>\n",
       "      <td>Al Izdihar</td>\n",
       "      <td>24.780321</td>\n",
       "      <td>46.71753</td>\n",
       "      <td>فلافل ابو عدنان</td>\n",
       "      <td>24.778129</td>\n",
       "      <td>46.720055</td>\n",
       "      <td>Falafel Restaurant</td>\n",
       "    </tr>\n",
       "  </tbody>\n",
       "</table>\n",
       "</div>"
      ],
      "text/plain": [
       "  Neighborhood  Neighborhood Latitude  Neighborhood Longitude  \\\n",
       "0     Al Iskan              21.400517                39.78090   \n",
       "1     Al Iskan              21.400517                39.78090   \n",
       "2     Al Iskan              21.400517                39.78090   \n",
       "3   Al Izdihar              24.780321                46.71753   \n",
       "4   Al Izdihar              24.780321                46.71753   \n",
       "\n",
       "                        Venue  Venue Latitude  Venue Longitude  \\\n",
       "0  مطعم الدومان للكباب الميرو       21.401180        39.780820   \n",
       "1                Herfy (هرفي)       21.400527        39.780757   \n",
       "2                     شاورمتك       21.400806        39.781047   \n",
       "3                 فطائر تركية       24.779479        46.719074   \n",
       "4             فلافل ابو عدنان       24.778129        46.720055   \n",
       "\n",
       "             Venue Category  \n",
       "0  Mediterranean Restaurant  \n",
       "1      Fast Food Restaurant  \n",
       "2          Arepa Restaurant  \n",
       "3        Turkish Restaurant  \n",
       "4        Falafel Restaurant  "
      ]
     },
     "execution_count": 19,
     "metadata": {},
     "output_type": "execute_result"
    }
   ],
   "source": [
    "Riyadh_venues\n",
    "Riyadh_restau = Riyadh_venues[Riyadh_venues['Venue Category'].str.contains('Restaurant')]\n",
    "Riyadh_restau.to_csv(\"Riyadh_restau.csv\")\n",
    "\n",
    "#selected_cat=['Restaurant','Sandwich','Breakfast','Falafel','Burger','Pizza','Shawarma']\n",
    "\n",
    "Riyadh_restau=pd.read_csv(\"Riyadh_restau.csv\")\n",
    "Riyadh_restau.drop(['Unnamed: 0'], axis = 1,inplace=True)\n",
    "Riyadh_restau.head()\n"
   ]
  },
  {
   "cell_type": "markdown",
   "metadata": {},
   "source": [
    "##### Finally our data is ready to be analyzed"
   ]
  },
  {
   "cell_type": "code",
   "execution_count": null,
   "metadata": {},
   "outputs": [],
   "source": []
  }
 ],
 "metadata": {
  "kernelspec": {
   "display_name": "Python 3",
   "language": "python",
   "name": "python3"
  },
  "language_info": {
   "codemirror_mode": {
    "name": "ipython",
    "version": 3
   },
   "file_extension": ".py",
   "mimetype": "text/x-python",
   "name": "python",
   "nbconvert_exporter": "python",
   "pygments_lexer": "ipython3",
   "version": "3.7.0"
  }
 },
 "nbformat": 4,
 "nbformat_minor": 2
}
