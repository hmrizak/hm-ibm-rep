{
 "cells": [
  {
   "cell_type": "markdown",
   "metadata": {},
   "source": [
    "# IBM Data Science Capstone Final Project"
   ]
  },
  {
   "cell_type": "markdown",
   "metadata": {},
   "source": [
    "### Introduction"
   ]
  },
  {
   "cell_type": "markdown",
   "metadata": {},
   "source": [
    "As part of my final capstone project for IBM Data Science Professional Certificate in Coursera, I choose to explore neighborhoods for Riyadh city, where i'm living,  using Foursquare location data. Riyadh is a metopletanian area with more than 6 million (macrotrends web site) people living there, the tunisian people who immigrate to Saudia arabia and scpecially to Riyadh are in exponential increase and the need to find and enjoy tunisian cuisine is on the rise. Due to the limit number of tunsian restaurant in Riyadh, the idea to find more suitable place to begin such project comes up."
   ]
  },
  {
   "cell_type": "markdown",
   "metadata": {},
   "source": [
    "### Business Problem"
   ]
  },
  {
   "cell_type": "markdown",
   "metadata": {},
   "source": [
    "The queston to answer is **\"Where is the more suitable place to launch such project?\"** in Riyadh, Saudia Arbia. I will try to answer this question by using data science, machine learning method (clustering) and Foresquare Api to extract needed data.\n"
   ]
  },
  {
   "cell_type": "markdown",
   "metadata": {},
   "source": [
    "### Target Audiance"
   ]
  },
  {
   "cell_type": "markdown",
   "metadata": {},
   "source": [
    "for any entrepreneur or businessman who wants to find a location to lanch such project"
   ]
  },
  {
   "cell_type": "markdown",
   "metadata": {},
   "source": [
    "### Data"
   ]
  },
  {
   "cell_type": "markdown",
   "metadata": {},
   "source": [
    "The data needed for the project is:\n",
    "- Riyadh location (Latitude and Longitude)\n",
    "- Neighborhood list in Riyadh city.\n",
    "- Latitude and Longitude relative to these neihborhoods.\n",
    "- Venue List of north african restaurant."
   ]
  },
  {
   "cell_type": "markdown",
   "metadata": {},
   "source": [
    "#### Datasets"
   ]
  },
  {
   "cell_type": "markdown",
   "metadata": {},
   "source": [
    "1- List of neighborhood from https://en.wikipedia.org/wiki/Riyadh#City_districts"
   ]
  },
  {
   "cell_type": "markdown",
   "metadata": {},
   "source": [
    "2- Foresquare Api to extract the venue list for each neighborhood</div>"
   ]
  },
  {
   "cell_type": "markdown",
   "metadata": {},
   "source": [
    "#### Extracting the data"
   ]
  },
  {
   "cell_type": "code",
   "execution_count": null,
   "metadata": {},
   "outputs": [],
   "source": []
  },
  {
   "cell_type": "code",
   "execution_count": null,
   "metadata": {},
   "outputs": [],
   "source": []
  },
  {
   "cell_type": "code",
   "execution_count": null,
   "metadata": {},
   "outputs": [],
   "source": []
  }
 ],
 "metadata": {
  "kernelspec": {
   "display_name": "Python 3",
   "language": "python",
   "name": "python3"
  },
  "language_info": {
   "codemirror_mode": {
    "name": "ipython",
    "version": 3
   },
   "file_extension": ".py",
   "mimetype": "text/x-python",
   "name": "python",
   "nbconvert_exporter": "python",
   "pygments_lexer": "ipython3",
   "version": "3.7.0"
  }
 },
 "nbformat": 4,
 "nbformat_minor": 2
}
